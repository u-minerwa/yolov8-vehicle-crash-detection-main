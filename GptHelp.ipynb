{
 "cells": [
  {
   "cell_type": "code",
   "execution_count": 2,
   "metadata": {},
   "outputs": [],
   "source": [
    "import cv2\n",
    "import pandas as pd\n",
    "import pyautogui\n",
    "from ultralytics import YOLO\n",
    "import cvzone"
   ]
  },
  {
   "cell_type": "code",
   "execution_count": 3,
   "metadata": {},
   "outputs": [],
   "source": [
    "model = YOLO(\"best.pt\") "
   ]
  },
  {
   "cell_type": "code",
   "execution_count": 4,
   "metadata": {},
   "outputs": [],
   "source": [
    "def RGB(event, x, y, flags, param):\n",
    "    if event == cv2.EVENT_MOUSEMOVE :  \n",
    "        point = [x, y]\n",
    "        print(point)\n",
    "\n",
    "cv2.namedWindow('RGB')\n",
    "cv2.setMouseCallback('RGB', RGB)\n",
    "\n",
    "cap = cv2.VideoCapture(\"cr.mp4\") \n",
    "\n",
    "my_file = open(\"coco1.txt\", 'r')\n",
    "data = my_file.read()\n",
    "class_list = data.split(\"\\n\") \n",
    "\n",
    "count = 0"
   ]
  },
  {
   "cell_type": "code",
   "execution_count": null,
   "metadata": {},
   "outputs": [],
   "source": [
    "while True:    \n",
    "    ret, frame = cap.read()\n",
    "    if not ret:\n",
    "        cap.set(cv2.CAP_PROP_POS_FRAMES, 0)\n",
    "        continue\n",
    "\n",
    "    count += 1\n",
    "    if count % 3 != 0:\n",
    "        continue\n",
    "\n",
    "    frame = cv2.resize(frame, (1020, 500))\n",
    "    results = model.predict(frame)\n",
    "    aa = results[0].boxes.data\n",
    "    a = aa.cpu().detach().numpy()\n",
    "    px = pd.DataFrame(a).astype(\"float\")\n",
    "\n",
    "    for index, row in px.iterrows():\n",
    "        x1 = int(row[0])\n",
    "        y1 = int(row[1])\n",
    "        x2 = int(row[2])\n",
    "        y2 = int(row[3])\n",
    "        d = int(row[5])\n",
    "        \n",
    "        c = class_list[d]\n",
    "        \n",
    "        if \"Accident\" in c:\n",
    "            cv2.rectangle(frame, (x1, y1), (x2, y2), (0, 0, 255), 2)\n",
    "            cvzone.putTextRect(frame, f'{c}', (x1, y1), 1, 1) \n",
    "            \n",
    "            # Делаем скриншот кадра\n",
    "            screenshot = pyautogui.screenshot()\n",
    "            screenshot.save(\"screenshot.png\")\n",
    "            # Здесь можно добавить код для вывода уведомления с изображением скриншота\n",
    "\n",
    "        if \"TrafficLight\" in c:\n",
    "            cv2.rectangle(frame, (x1, y1), (x2, y2), (17, 249, 249), 2)\n",
    "            cvzone.putTextRect(frame, f'{c}', (x1, y1), 1, 1) \n",
    "            \n",
    "        if \"Car\" in c: \n",
    "            cv2.rectangle(frame, (x1, y1), (x2, y2), (0, 255, 0), 2)\n",
    "            cvzone.putTextRect(frame, f'{c}', (x1, y1), 1, 1)\n",
    "            \n",
    "        if \"Sign\" in c: \n",
    "            cv2.rectangle(frame, (x1, y1), (x2, y2), (230, 240, 100), 2)\n",
    "            cvzone.putTextRect(frame, f'{c}', (x1, y1), 1, 1)\n",
    "        \n",
    "    cv2.imshow(\"RGB\", frame)\n",
    "    if cv2.waitKey(1) & 0xFF == 27:\n",
    "        break\n",
    "\n",
    "cap.release()  \n",
    "cv2.destroyAllWindows()"
   ]
  },
  {
   "cell_type": "markdown",
   "metadata": {},
   "source": [
    "(:>)"
   ]
  }
 ],
 "metadata": {
  "kernelspec": {
   "display_name": "Python 3",
   "language": "python",
   "name": "python3"
  },
  "language_info": {
   "codemirror_mode": {
    "name": "ipython",
    "version": 3
   },
   "file_extension": ".py",
   "mimetype": "text/x-python",
   "name": "python",
   "nbconvert_exporter": "python",
   "pygments_lexer": "ipython3",
   "version": "3.11.3"
  }
 },
 "nbformat": 4,
 "nbformat_minor": 2
}
